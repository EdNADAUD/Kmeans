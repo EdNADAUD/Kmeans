{
 "cells": [
  {
   "cell_type": "markdown",
   "metadata": {},
   "source": [
    "# K-means"
   ]
  },
  {
   "cell_type": "markdown",
   "metadata": {},
   "source": [
    "## Algo\n",
    "1. Define ```k``` and ```max_iter``` (maximum number of_iterations)\n",
    "2. Compute *k* random centroids\n",
    "3. Until max number of iterations not reached:\n",
    "    - Assign to each training sample its nearest centroid\n",
    "    - Udpate centroid coordinates"
   ]
  },
  {
   "cell_type": "code",
   "execution_count": 1,
   "metadata": {},
   "outputs": [],
   "source": [
    "import numpy as np\n",
    "from sklearn.neighbors import KNeighborsClassifier\n",
    "\n",
    "class MyKmeans:\n",
    "    '''\n",
    "    desc: Implementation of Kmeans algorithm\n",
    "    1.Define k and max_iter (maximum number of_iterations)\n",
    "    2.Compute k random centroids\n",
    "    3.Until max number of iterations not reached:\n",
    "        - Assign to each training sample its nearest centroid\n",
    "        - Udpate centroid coordinates\n",
    "    '''\n",
    "    def __init__(self, k, max_iter=100, verbose=False, random_state=42):\n",
    "        self.k = k\n",
    "        self.verbose = verbose\n",
    "        self.rs = random_state\n",
    "        self.centroids = None\n",
    "        self.max_iter = max_iter\n",
    "        self.labels = np.array(range(self.k))\n",
    "        self.classes = None\n",
    "        self.inertia = None\n",
    "        if verbose:\n",
    "            print('*****  Initialization of Kmeans with {} clusters  *****'.format(self.k))\n",
    "            print('\\tmax_iter: \\t', self.max_iter)\n",
    "            print('\\tlabels: \\t', self.labels)\n",
    "            print('\\trandom state: \\t', self.rs)\n",
    "            print('\\tverbose: \\t', self.verbose)                                 \n",
    "            print('******************************************************')\n",
    "    \n",
    "    def fit(self, X):\n",
    "        '''\n",
    "        desc: This function trains kmeans on X with k clusters\n",
    "            --> At the end, a label will be assigned to each sample of X and be stored in classes attribute\n",
    "        '''\n",
    "       \n",
    "        self.X_forme=X.shape\n",
    "        taille =np.empty(shape=(self.X_forme[1],2),dtype=np.float32)\n",
    "        taille[:,0]=np.min(X,axis=0)\n",
    "        taille[:,1]=np.max(X,axis=0)\n",
    "        \n",
    "        self.init_centroids(taille)\n",
    "        \n",
    "        \n",
    "       \n",
    "        \n",
    "        \n",
    "        # until stopping criteria is reached ... : TODO\n",
    "        for i in range(self.max_iter):\n",
    "            test = KNeighborsClassifier(n_neighbors=1)\n",
    "            test.fit(self.centroids,self.labels)\n",
    "            \n",
    "           \n",
    "          \n",
    "            current_clusters = test.predict(X) \n",
    "            \n",
    "            \n",
    "            \n",
    "            \n",
    "            new_centers = []\n",
    "           \n",
    "            for compteur3 in range(len(self.labels)):\n",
    "                Sommes=0\n",
    "                Longeur=1\n",
    "                for compteur4 in range(len(current_clusters)):\n",
    "                    if self.labels[compteur3]==current_clusters[compteur4]:\n",
    "                        Longeur=Longeur+1\n",
    "                        Sommes=X[compteur4]+Sommes\n",
    "                new_centers.append((Sommes+self.centroids[compteur3])/Longeur)\n",
    "        \n",
    "        \n",
    "        \n",
    "        \n",
    "            self.centroids = new_centers # updating old centroids with new ones \n",
    "            \n",
    "        self.classes = current_clusters # here are stored the nearest cluster of each sample in X\n",
    "        \n",
    "        # computing inertia\n",
    "        self.ssd(X)\n",
    "        \n",
    "        if self.verbose:\n",
    "            print('Model trained in {} iterations...'.format(i+1))\n",
    "        \n",
    "        \n",
    "        \n",
    "    def init_centroids(self,taille):\n",
    "      \n",
    "        \n",
    "        np.random.seed(self.rs)\n",
    "        self.centroids=np.empty(shape=(self.k,self.X_forme[1]),dtype=np.float32)\n",
    "        \n",
    "        for compteur5 in range(len(taille)):\n",
    "            self.centroids[:,compteur5]=np.random.uniform(taille[compteur5,0],taille[compteur5,1],size=(1,self.k))\n",
    "        \n",
    "        return self.centroids\n",
    "\n",
    "        \n",
    "    \n",
    "    def ssd(self,X):\n",
    "      \n",
    "        res = 0\n",
    "        for compteur in range (len(self.labels)):\n",
    "            for compteur2 in range(len(self.classes)):\n",
    "                if self.labels[compteur]==self.classes[compteur2]:\n",
    "                    res=res+np.sum((X[compteur2]-self.centroids[compteur])**2)\n",
    "        self.inertia = res\n",
    "        \n",
    "    def predict(self,X):\n",
    "         \n",
    "        modele = KNeighborsClassifier(n_neighbors=1)\n",
    "        modele.fit=(self.centroids,self.labels)\n",
    "        predictions=modele.predicts(X)\n",
    "        return predictions"
   ]
  },
  {
   "cell_type": "markdown",
   "metadata": {},
   "source": [
    "\n",
    "## 1. Visualisation des données"
   ]
  },
  {
   "cell_type": "markdown",
   "metadata": {},
   "source": [
    "Charger la base de données (Customers_practice.csv)."
   ]
  },
  {
   "cell_type": "code",
   "execution_count": 24,
   "metadata": {},
   "outputs": [],
   "source": [
    "import pandas as pd\n",
    "dfCustomer_pratice = pd.read_csv(\"Customers_practice.csv\")"
   ]
  },
  {
   "cell_type": "markdown",
   "metadata": {},
   "source": [
    "Afficher les 10 premières lignes du jeu de données (fonction head()). Déterminer le\n",
    "nombre d’exemples, ainsi que le nombre de features pour ce problème."
   ]
  },
  {
   "cell_type": "code",
   "execution_count": 33,
   "metadata": {},
   "outputs": [
    {
     "data": {
      "text/html": [
       "<div>\n",
       "<style scoped>\n",
       "    .dataframe tbody tr th:only-of-type {\n",
       "        vertical-align: middle;\n",
       "    }\n",
       "\n",
       "    .dataframe tbody tr th {\n",
       "        vertical-align: top;\n",
       "    }\n",
       "\n",
       "    .dataframe thead th {\n",
       "        text-align: right;\n",
       "    }\n",
       "</style>\n",
       "<table border=\"1\" class=\"dataframe\">\n",
       "  <thead>\n",
       "    <tr style=\"text-align: right;\">\n",
       "      <th></th>\n",
       "      <th>Annual_Income_(k$)</th>\n",
       "      <th>Spending_Score</th>\n",
       "    </tr>\n",
       "  </thead>\n",
       "  <tbody>\n",
       "    <tr>\n",
       "      <th>0</th>\n",
       "      <td>103</td>\n",
       "      <td>85</td>\n",
       "    </tr>\n",
       "    <tr>\n",
       "      <th>1</th>\n",
       "      <td>60</td>\n",
       "      <td>52</td>\n",
       "    </tr>\n",
       "    <tr>\n",
       "      <th>2</th>\n",
       "      <td>59</td>\n",
       "      <td>55</td>\n",
       "    </tr>\n",
       "    <tr>\n",
       "      <th>3</th>\n",
       "      <td>62</td>\n",
       "      <td>55</td>\n",
       "    </tr>\n",
       "    <tr>\n",
       "      <th>4</th>\n",
       "      <td>48</td>\n",
       "      <td>47</td>\n",
       "    </tr>\n",
       "    <tr>\n",
       "      <th>5</th>\n",
       "      <td>44</td>\n",
       "      <td>50</td>\n",
       "    </tr>\n",
       "    <tr>\n",
       "      <th>6</th>\n",
       "      <td>73</td>\n",
       "      <td>5</td>\n",
       "    </tr>\n",
       "    <tr>\n",
       "      <th>7</th>\n",
       "      <td>33</td>\n",
       "      <td>92</td>\n",
       "    </tr>\n",
       "    <tr>\n",
       "      <th>8</th>\n",
       "      <td>71</td>\n",
       "      <td>75</td>\n",
       "    </tr>\n",
       "    <tr>\n",
       "      <th>9</th>\n",
       "      <td>21</td>\n",
       "      <td>66</td>\n",
       "    </tr>\n",
       "  </tbody>\n",
       "</table>\n",
       "</div>"
      ],
      "text/plain": [
       "   Annual_Income_(k$)  Spending_Score\n",
       "0                 103              85\n",
       "1                  60              52\n",
       "2                  59              55\n",
       "3                  62              55\n",
       "4                  48              47\n",
       "5                  44              50\n",
       "6                  73               5\n",
       "7                  33              92\n",
       "8                  71              75\n",
       "9                  21              66"
      ]
     },
     "execution_count": 33,
     "metadata": {},
     "output_type": "execute_result"
    }
   ],
   "source": [
    "dfCustomer_pratice.head(10)"
   ]
  },
  {
   "cell_type": "code",
   "execution_count": 34,
   "metadata": {},
   "outputs": [
    {
     "name": "stdout",
     "output_type": "stream",
     "text": [
      "<class 'pandas.core.frame.DataFrame'>\n",
      "RangeIndex: 170 entries, 0 to 169\n",
      "Data columns (total 2 columns):\n",
      " #   Column              Non-Null Count  Dtype\n",
      "---  ------              --------------  -----\n",
      " 0   Annual_Income_(k$)  170 non-null    int64\n",
      " 1   Spending_Score      170 non-null    int64\n",
      "dtypes: int64(2)\n",
      "memory usage: 2.8 KB\n"
     ]
    }
   ],
   "source": [
    "dfCustomer_pratice.info()"
   ]
  },
  {
   "cell_type": "markdown",
   "metadata": {},
   "source": [
    "Il y a donc 170 exemples et 2 features"
   ]
  },
  {
   "cell_type": "markdown",
   "metadata": {},
   "source": [
    "Afficher les données à l’aide d’un scatterplot (utiliser la librairie seaborn ou matplotlib). Vous devriez obtenir un graphe similaire à celui-ci (penser à la légende et au titre) :"
   ]
  },
  {
   "cell_type": "code",
   "execution_count": 36,
   "metadata": {},
   "outputs": [],
   "source": [
    "import matplotlib.pyplot as plt\n",
    "import seaborn as sns\n",
    "sns.set()"
   ]
  },
  {
   "cell_type": "code",
   "execution_count": 35,
   "metadata": {},
   "outputs": [
    {
     "data": {
      "text/plain": [
       "Text(0.5, 1.0, 'Dataset')"
      ]
     },
     "execution_count": 35,
     "metadata": {},
     "output_type": "execute_result"
    },
    {
     "data": {
      "image/png": "[encoded data removed]",
      "text/plain": [
       "<Figure size 432x288 with 1 Axes>"
      ]
     },
     "metadata": {},
     "output_type": "display_data"
    }
   ],
   "source": [
    "sns.scatterplot(data=dfCustomer_pratice, x=dfCustomer_pratice.columns[0], y=dfCustomer_pratice.columns[1])\n",
    "plt.legend([\"Unknown\"], loc=\"upper right\")\n",
    "plt.title(\"Dataset\")"
   ]
  },
  {
   "cell_type": "markdown",
   "metadata": {},
   "source": [
    "## 2. K-means algorithm"
   ]
  },
  {
   "cell_type": "code",
   "execution_count": 7,
   "metadata": {},
   "outputs": [
    {
     "data": {
      "text/plain": [
       "91570.07313519812"
      ]
     },
     "execution_count": 7,
     "metadata": {},
     "output_type": "execute_result"
    }
   ],
   "source": [
    "km = MyKmeans(3)\n",
    "km.fit(dfCustomer_pratice.iloc[:,:].values)\n",
    "km.inertia"
   ]
  },
  {
   "cell_type": "code",
   "execution_count": 8,
   "metadata": {
    "scrolled": true
   },
   "outputs": [
    {
     "data": {
      "image/png": "[encoded data removed]",
      "text/plain": [
       "<Figure size 432x288 with 1 Axes>"
      ]
     },
     "metadata": {},
     "output_type": "display_data"
    }
   ],
   "source": [
    "import seaborn as sns\n",
    "\n",
    "color=[\"red\",\"blue\",\"green\"]\n",
    "\n",
    "for i in range (3):\n",
    "    sns.scatterplot(dfCustomer_pratice.iloc[km.classes==i,0],dfCustomer_pratice.iloc[km.classes==i,1],color=color[i]) \n",
    "    \n"
   ]
  },
  {
   "cell_type": "markdown",
   "metadata": {},
   "source": [
    "Ici nous affichons nos données avec comme couleurs leurs classes respectives"
   ]
  },
  {
   "cell_type": "code",
   "execution_count": 69,
   "metadata": {},
   "outputs": [
    {
     "data": {
      "text/plain": [
       "<matplotlib.legend.Legend at 0x2b7e32c0d88>"
      ]
     },
     "execution_count": 69,
     "metadata": {},
     "output_type": "execute_result"
    },
    {
     "data": {
      "image/png": "[encoded data removed]",
      "text/plain": [
       "<Figure size 432x288 with 1 Axes>"
      ]
     },
     "metadata": {},
     "output_type": "display_data"
    }
   ],
   "source": [
    "\n",
    "import seaborn as sns\n",
    "\n",
    "color=[\"pink\",\"purple\",\"green\"]\n",
    "\n",
    "for i in range (3):\n",
    "    sns.scatterplot(dfCustomer_pratice.iloc[km.classes==i,0],dfCustomer_pratice.iloc[km.classes==i,1],color=color[i]) \n",
    "    \n",
    "for i in range (3):\n",
    "    plt.scatter(x=km.centroids[i][0],y=km.centroids[i][1],color=\"yellow\",marker=\"D\")\n",
    "    \n",
    "plt.legend([\"classe =0\",\"classe=1\",\"classe=2\",\"centroid\"], loc=\"upper right\")"
   ]
  },
  {
   "cell_type": "markdown",
   "metadata": {},
   "source": [
    "Nous refaisons la même chose mais avec l'information des centroïdes"
   ]
  },
  {
   "cell_type": "markdown",
   "metadata": {},
   "source": [
    "k=3 ne semble pas la meilleure solution car notre répartition de donnée montre de grande distance entre le centroïde de la classe 0 et ses données les plus extrêmes"
   ]
  },
  {
   "cell_type": "markdown",
   "metadata": {},
   "source": [
    "## 3. Trouver la valeur optimale de k"
   ]
  },
  {
   "cell_type": "code",
   "execution_count": 39,
   "metadata": {},
   "outputs": [],
   "source": [
    "inertie=[]\n",
    "inertie=np.array(inertie)\n",
    "for i in range(1,21):\n",
    "    km2 = MyKmeans(i)\n",
    "    km2.fit(dfCustomer_pratice.iloc[:,:].values)\n",
    "    inertie=np.append(inertie,km2.inertia)\n",
    "  \n",
    "\n"
   ]
  },
  {
   "cell_type": "code",
   "execution_count": 54,
   "metadata": {},
   "outputs": [
    {
     "data": {
      "text/plain": [
       "<matplotlib.lines.Line2D at 0x2b7e2afb7c8>"
      ]
     },
     "execution_count": 54,
     "metadata": {},
     "output_type": "execute_result"
    },
    {
     "data": {
      "image/png": "[encoded data removed]",
      "text/plain": [
       "<Figure size 1080x720 with 1 Axes>"
      ]
     },
     "metadata": {},
     "output_type": "display_data"
    }
   ],
   "source": [
    "plt.figure(figsize=(15,10))\n",
    "plt.plot(np.array(range(20)),inertie)\n",
    "\n",
    "plt.axhline(y=inertie[5], color=\"red\")"
   ]
  },
  {
   "cell_type": "markdown",
   "metadata": {},
   "source": [
    "Voici l'affichage de notre courbe. Nous avons appliqué la méthode du coude est donc, la valeur optinal de **k est 5.**"
   ]
  },
  {
   "cell_type": "code",
   "execution_count": 78,
   "metadata": {},
   "outputs": [
    {
     "data": {
      "text/plain": [
       "38565.48885652866"
      ]
     },
     "execution_count": 78,
     "metadata": {},
     "output_type": "execute_result"
    }
   ],
   "source": [
    "km5 = MyKmeans(5)\n",
    "km5.fit(dfCustomer_pratice.iloc[:,:].values)\n",
    "km5.inertia"
   ]
  },
  {
   "cell_type": "code",
   "execution_count": 79,
   "metadata": {
    "scrolled": true
   },
   "outputs": [
    {
     "data": {
      "text/plain": [
       "<matplotlib.legend.Legend at 0x2b7e3424c88>"
      ]
     },
     "execution_count": 79,
     "metadata": {},
     "output_type": "execute_result"
    },
    {
     "data": {
      "image/png": "[encoded data removed]",
      "text/plain": [
       "<Figure size 648x432 with 1 Axes>"
      ]
     },
     "metadata": {},
     "output_type": "display_data"
    }
   ],
   "source": [
    "import seaborn as sns\n",
    "\n",
    "color=[\"pink\",\"purple\",\"green\",\"black\",\"blue\",\"red\",\"sienna\",\"aqua\",\"grey\",\"orange\"]\n",
    "plt.figure(figsize=(9,6))\n",
    "\n",
    "for i in range (5):\n",
    "  \n",
    "    sns.scatterplot(dfCustomer_pratice.iloc[km5.classes==i,0].values,dfCustomer_pratice.iloc[km5.classes==i,1].values,color=color[i]) \n",
    "    \n",
    "for i in range (5):\n",
    "    plt.scatter(x=km5.centroids[i][0],y=km5.centroids[i][1],color=\"yellow\",marker=\"D\")\n",
    "    \n",
    "plt.legend([\"classe =0\",\"classe=1\",\"classe=2\",\"classe=3\",\"classe=4\",\"centroid\"], loc=\"upper right\")"
   ]
  },
  {
   "cell_type": "markdown",
   "metadata": {},
   "source": [
    "Voici l'affichage des cluster pour 5 classes. Nous pouvons remarqué que la classe 0 est celle des personnes avec un faible revenue et qui dépense peu. La classe 1 est quant à elle très dépensière mais avec toujours un faible salaire. Le cluster au centre de l'écran, et qui représente la classe 3, est le plus modéré (c'est à dire un revenue moyen et une dépense raisoné). Les 2 dernières classes sont les clusters de personnes les plus riches avec la classe 2 qui est pus dépensière et la 4 qui est pour le coup dépense beaucoup.\n",
    "\n",
    "On peux conclure que dans les extrème de salaires il y a de tout niveau dépense mais les personnes qui sont dans la classe moyenne sont raisonnable."
   ]
  },
  {
   "cell_type": "markdown",
   "metadata": {},
   "source": [
    "## 5 Aller plus loin"
   ]
  },
  {
   "cell_type": "code",
   "execution_count": 14,
   "metadata": {},
   "outputs": [],
   "source": [
    "dftest = pd.read_csv(\"Customers_practice_test.csv\")"
   ]
  },
  {
   "cell_type": "markdown",
   "metadata": {},
   "source": [
    "Chargement des données"
   ]
  },
  {
   "cell_type": "code",
   "execution_count": 63,
   "metadata": {},
   "outputs": [
    {
     "data": {
      "text/html": [
       "<div>\n",
       "<style scoped>\n",
       "    .dataframe tbody tr th:only-of-type {\n",
       "        vertical-align: middle;\n",
       "    }\n",
       "\n",
       "    .dataframe tbody tr th {\n",
       "        vertical-align: top;\n",
       "    }\n",
       "\n",
       "    .dataframe thead th {\n",
       "        text-align: right;\n",
       "    }\n",
       "</style>\n",
       "<table border=\"1\" class=\"dataframe\">\n",
       "  <thead>\n",
       "    <tr style=\"text-align: right;\">\n",
       "      <th></th>\n",
       "      <th>Annual_Income_(k$)</th>\n",
       "      <th>Spending_Score</th>\n",
       "    </tr>\n",
       "  </thead>\n",
       "  <tbody>\n",
       "    <tr>\n",
       "      <th>0</th>\n",
       "      <td>62</td>\n",
       "      <td>42</td>\n",
       "    </tr>\n",
       "    <tr>\n",
       "      <th>1</th>\n",
       "      <td>19</td>\n",
       "      <td>3</td>\n",
       "    </tr>\n",
       "    <tr>\n",
       "      <th>2</th>\n",
       "      <td>48</td>\n",
       "      <td>50</td>\n",
       "    </tr>\n",
       "    <tr>\n",
       "      <th>3</th>\n",
       "      <td>87</td>\n",
       "      <td>75</td>\n",
       "    </tr>\n",
       "    <tr>\n",
       "      <th>4</th>\n",
       "      <td>88</td>\n",
       "      <td>69</td>\n",
       "    </tr>\n",
       "  </tbody>\n",
       "</table>\n",
       "</div>"
      ],
      "text/plain": [
       "   Annual_Income_(k$)  Spending_Score\n",
       "0                  62              42\n",
       "1                  19               3\n",
       "2                  48              50\n",
       "3                  87              75\n",
       "4                  88              69"
      ]
     },
     "execution_count": 63,
     "metadata": {},
     "output_type": "execute_result"
    }
   ],
   "source": [
    "dftest.head()"
   ]
  },
  {
   "cell_type": "code",
   "execution_count": 64,
   "metadata": {},
   "outputs": [
    {
     "data": {
      "text/plain": [
       "<matplotlib.axes._subplots.AxesSubplot at 0x2b7e2addac8>"
      ]
     },
     "execution_count": 64,
     "metadata": {},
     "output_type": "execute_result"
    },
    {
     "data": {
      "image/png": "[encoded data removed]",
      "text/plain": [
       "<Figure size 432x288 with 1 Axes>"
      ]
     },
     "metadata": {},
     "output_type": "display_data"
    }
   ],
   "source": [
    "sns.scatterplot(data=dftest, x=dftest.columns[0], y=dftest.columns[1])"
   ]
  },
  {
   "cell_type": "code",
   "execution_count": 55,
   "metadata": {},
   "outputs": [
    {
     "name": "stdout",
     "output_type": "stream",
     "text": [
      "<class 'pandas.core.frame.DataFrame'>\n",
      "RangeIndex: 30 entries, 0 to 29\n",
      "Data columns (total 2 columns):\n",
      " #   Column              Non-Null Count  Dtype\n",
      "---  ------              --------------  -----\n",
      " 0   Annual_Income_(k$)  30 non-null     int64\n",
      " 1   Spending_Score      30 non-null     int64\n",
      "dtypes: int64(2)\n",
      "memory usage: 608.0 bytes\n"
     ]
    }
   ],
   "source": [
    "dftest.info()"
   ]
  },
  {
   "cell_type": "markdown",
   "metadata": {},
   "source": [
    "Ce dataframe est formé de 30 exemple et 2 feature (les mêmes qu'avant)"
   ]
  },
  {
   "cell_type": "markdown",
   "metadata": {},
   "source": [
    "Determination de la classe  du df de test :"
   ]
  },
  {
   "cell_type": "code",
   "execution_count": 57,
   "metadata": {},
   "outputs": [],
   "source": [
    "km5 = MyKmeans(5)\n",
    "km5.fit(dftest.iloc[:,:].values)\n"
   ]
  },
  {
   "cell_type": "code",
   "execution_count": 58,
   "metadata": {},
   "outputs": [],
   "source": [
    "def save(predictions):\n",
    "    '''\n",
    "    predictions of kmeans\n",
    "    '''\n",
    "    column = ['prediction']\n",
    "    res_df = pd.DataFrame(predictions, columns=column)\n",
    "    print(res_df)\n",
    "    res_df.to_csv('resultats.csv', index=None)"
   ]
  },
  {
   "cell_type": "code",
   "execution_count": 59,
   "metadata": {},
   "outputs": [],
   "source": [
    "preds = km5.classes"
   ]
  },
  {
   "cell_type": "code",
   "execution_count": 60,
   "metadata": {},
   "outputs": [
    {
     "name": "stdout",
     "output_type": "stream",
     "text": [
      "    prediction\n",
      "0            3\n",
      "1            0\n",
      "2            3\n",
      "3            2\n",
      "4            2\n",
      "5            3\n",
      "6            4\n",
      "7            4\n",
      "8            2\n",
      "9            2\n",
      "10           3\n",
      "11           3\n",
      "12           4\n",
      "13           3\n",
      "14           3\n",
      "15           2\n",
      "16           1\n",
      "17           4\n",
      "18           3\n",
      "19           3\n",
      "20           0\n",
      "21           3\n",
      "22           2\n",
      "23           1\n",
      "24           1\n",
      "25           3\n",
      "26           4\n",
      "27           4\n",
      "28           1\n",
      "29           3\n"
     ]
    }
   ],
   "source": [
    "save(preds) # execute the cell to generate resultats.csv"
   ]
  },
  {
   "cell_type": "code",
   "execution_count": 61,
   "metadata": {},
   "outputs": [
    {
     "name": "stdout",
     "output_type": "stream",
     "text": [
      "Index(['Annual_Income_(k$)', 'Spending_Score'], dtype='object')\n"
     ]
    }
   ],
   "source": [
    "data=dftest.columns\n",
    "print(data)"
   ]
  },
  {
   "cell_type": "code",
   "execution_count": 76,
   "metadata": {},
   "outputs": [
    {
     "data": {
      "text/plain": [
       "<matplotlib.legend.Legend at 0x2b7e2290a08>"
      ]
     },
     "execution_count": 76,
     "metadata": {},
     "output_type": "execute_result"
    },
    {
     "data": {
      "image/png": "[encoded data removed]",
      "text/plain": [
       "<Figure size 648x432 with 1 Axes>"
      ]
     },
     "metadata": {},
     "output_type": "display_data"
    }
   ],
   "source": [
    "import seaborn as sns\n",
    "\n",
    "color=[\"pink\",\"purple\",\"green\",\"black\",\"blue\",\"red\",\"sienna\",\"aqua\",\"grey\",\"orange\"]\n",
    "plt.figure(figsize=(9,6))\n",
    "\n",
    "for i in range (5):\n",
    "  \n",
    "    sns.scatterplot(dftest.iloc[preds==i,0].values,dftest.iloc[preds==i,1].values,color=color[i]) \n",
    "    \n",
    "for i in range (5):\n",
    "    plt.scatter(x=km5.centroids[i][0],y=km5.centroids[i][1],color=\"yellow\",marker=\"D\")\n",
    "    \n",
    "plt.legend([\"classe =0\",\"classe=1\",\"classe=2\",\"classe=3\",\"classe=4\",\"centroid\"], loc=\"upper right\")"
   ]
  },
  {
   "cell_type": "markdown",
   "metadata": {},
   "source": [
    "En affichant nos prévisons nous remarquons que cela est en adéquation avec nos observations précédentes "
   ]
  },
  {
   "cell_type": "code",
   "execution_count": 80,
   "metadata": {
    "scrolled": true
   },
   "outputs": [
    {
     "ename": "AttributeError",
     "evalue": "'KNeighborsClassifier' object has no attribute 'predicts'",
     "output_type": "error",
     "traceback": [
      "\u001b[1;31m---------------------------------------------------------------------------\u001b[0m",
      "\u001b[1;31mAttributeError\u001b[0m                            Traceback (most recent call last)",
      "\u001b[1;32m<ipython-input-80-cb8c3ae23551>\u001b[0m in \u001b[0;36m<module>\u001b[1;34m\u001b[0m\n\u001b[0;32m      1\u001b[0m \u001b[0mX\u001b[0m\u001b[1;33m=\u001b[0m\u001b[0mdftest\u001b[0m\u001b[1;33m.\u001b[0m\u001b[0miloc\u001b[0m\u001b[1;33m[\u001b[0m\u001b[1;33m:\u001b[0m\u001b[1;33m,\u001b[0m\u001b[1;33m:\u001b[0m\u001b[1;33m]\u001b[0m\u001b[1;33m.\u001b[0m\u001b[0mvalues\u001b[0m\u001b[1;33m\u001b[0m\u001b[1;33m\u001b[0m\u001b[0m\n\u001b[0;32m      2\u001b[0m \u001b[1;33m\u001b[0m\u001b[0m\n\u001b[1;32m----> 3\u001b[1;33m \u001b[0mY\u001b[0m\u001b[1;33m=\u001b[0m\u001b[0mkm5\u001b[0m\u001b[1;33m.\u001b[0m\u001b[0mpredict\u001b[0m\u001b[1;33m(\u001b[0m\u001b[0mnp\u001b[0m\u001b[1;33m.\u001b[0m\u001b[0mc_\u001b[0m\u001b[1;33m[\u001b[0m\u001b[0mxx1\u001b[0m\u001b[1;33m.\u001b[0m\u001b[0mravel\u001b[0m\u001b[1;33m(\u001b[0m\u001b[1;33m)\u001b[0m\u001b[1;33m,\u001b[0m\u001b[0myy1\u001b[0m\u001b[1;33m.\u001b[0m\u001b[0mravel\u001b[0m\u001b[1;33m(\u001b[0m\u001b[1;33m)\u001b[0m\u001b[1;33m]\u001b[0m\u001b[1;33m)\u001b[0m\u001b[1;33m\u001b[0m\u001b[1;33m\u001b[0m\u001b[0m\n\u001b[0m",
      "\u001b[1;32m<ipython-input-1-4edd9bf80b9c>\u001b[0m in \u001b[0;36mpredict\u001b[1;34m(self, X)\u001b[0m\n\u001b[0;32m    109\u001b[0m         \u001b[0mmodele\u001b[0m \u001b[1;33m=\u001b[0m \u001b[0mKNeighborsClassifier\u001b[0m\u001b[1;33m(\u001b[0m\u001b[0mn_neighbors\u001b[0m\u001b[1;33m=\u001b[0m\u001b[1;36m1\u001b[0m\u001b[1;33m)\u001b[0m\u001b[1;33m\u001b[0m\u001b[1;33m\u001b[0m\u001b[0m\n\u001b[0;32m    110\u001b[0m         \u001b[0mmodele\u001b[0m\u001b[1;33m.\u001b[0m\u001b[0mfit\u001b[0m\u001b[1;33m=\u001b[0m\u001b[1;33m(\u001b[0m\u001b[0mself\u001b[0m\u001b[1;33m.\u001b[0m\u001b[0mcentroids\u001b[0m\u001b[1;33m,\u001b[0m\u001b[0mself\u001b[0m\u001b[1;33m.\u001b[0m\u001b[0mlabels\u001b[0m\u001b[1;33m)\u001b[0m\u001b[1;33m\u001b[0m\u001b[1;33m\u001b[0m\u001b[0m\n\u001b[1;32m--> 111\u001b[1;33m         \u001b[0mpredictions\u001b[0m\u001b[1;33m=\u001b[0m\u001b[0mmodele\u001b[0m\u001b[1;33m.\u001b[0m\u001b[0mpredicts\u001b[0m\u001b[1;33m(\u001b[0m\u001b[0mX\u001b[0m\u001b[1;33m)\u001b[0m\u001b[1;33m\u001b[0m\u001b[1;33m\u001b[0m\u001b[0m\n\u001b[0m\u001b[0;32m    112\u001b[0m         \u001b[1;32mreturn\u001b[0m \u001b[0mpredictions\u001b[0m\u001b[1;33m\u001b[0m\u001b[1;33m\u001b[0m\u001b[0m\n",
      "\u001b[1;31mAttributeError\u001b[0m: 'KNeighborsClassifier' object has no attribute 'predicts'"
     ]
    }
   ],
   "source": [
    "X=dftest.iloc[:,:].values\n",
    "\n",
    "Y=km5.predict(np.c_[xx1.ravel(),yy1.ravel()])"
   ]
  },
  {
   "cell_type": "code",
   "execution_count": 81,
   "metadata": {},
   "outputs": [
    {
     "ename": "NameError",
     "evalue": "name 'Y' is not defined",
     "output_type": "error",
     "traceback": [
      "\u001b[1;31m---------------------------------------------------------------------------\u001b[0m",
      "\u001b[1;31mNameError\u001b[0m                                 Traceback (most recent call last)",
      "\u001b[1;32m<ipython-input-81-d18339d82010>\u001b[0m in \u001b[0;36m<module>\u001b[1;34m\u001b[0m\n\u001b[0;32m      8\u001b[0m \u001b[0mi\u001b[0m\u001b[1;33m=\u001b[0m\u001b[1;36m0\u001b[0m\u001b[1;33m\u001b[0m\u001b[1;33m\u001b[0m\u001b[0m\n\u001b[0;32m      9\u001b[0m \u001b[0mplt\u001b[0m\u001b[1;33m.\u001b[0m\u001b[0mfigure\u001b[0m\u001b[1;33m(\u001b[0m\u001b[0mfigsize\u001b[0m\u001b[1;33m=\u001b[0m\u001b[1;33m(\u001b[0m\u001b[1;36m9\u001b[0m\u001b[1;33m,\u001b[0m\u001b[1;36m6\u001b[0m\u001b[1;33m)\u001b[0m\u001b[1;33m)\u001b[0m\u001b[1;33m\u001b[0m\u001b[1;33m\u001b[0m\u001b[0m\n\u001b[1;32m---> 10\u001b[1;33m \u001b[0mplt\u001b[0m\u001b[1;33m.\u001b[0m\u001b[0mcontour\u001b[0m\u001b[1;33m(\u001b[0m\u001b[0mxx1\u001b[0m\u001b[1;33m,\u001b[0m\u001b[0myy1\u001b[0m\u001b[1;33m,\u001b[0m\u001b[0mY\u001b[0m\u001b[1;33m,\u001b[0m\u001b[0mcmap\u001b[0m\u001b[1;33m=\u001b[0m\u001b[0mplt\u001b[0m\u001b[1;33m.\u001b[0m\u001b[0mcm\u001b[0m\u001b[1;33m.\u001b[0m\u001b[0mPaired\u001b[0m\u001b[1;33m,\u001b[0m \u001b[0malpha\u001b[0m\u001b[1;33m=\u001b[0m\u001b[1;36m0.8\u001b[0m\u001b[1;33m)\u001b[0m\u001b[1;33m\u001b[0m\u001b[1;33m\u001b[0m\u001b[0m\n\u001b[0m\u001b[0;32m     11\u001b[0m \u001b[1;33m\u001b[0m\u001b[0m\n\u001b[0;32m     12\u001b[0m \u001b[1;33m\u001b[0m\u001b[0m\n",
      "\u001b[1;31mNameError\u001b[0m: name 'Y' is not defined"
     ]
    },
    {
     "data": {
      "text/plain": [
       "<Figure size 648x432 with 0 Axes>"
      ]
     },
     "metadata": {},
     "output_type": "display_data"
    }
   ],
   "source": [
    "\n",
    "h = .02 # Espacement du mesh\n",
    "x_min, x_max = X[:, 0].min()*1.1, X[:, 0].max()*1.1\n",
    "y_min, y_max = X[:, 1].min()*1.1, X[:, 1].max()*1.1\n",
    "xx1, yy1 = np.meshgrid(np.arange(x_min, x_max, h), np.arange(y_min, y_max, h))\n",
    "\n",
    "\n",
    "color=[\"pink\",\"purple\",\"green\",\"black\",\"blue\",\"red\",\"sienna\",\"aqua\",\"grey\",\"orange\"]\n",
    "i=0\n",
    "plt.figure(figsize=(9,6))\n",
    "plt.contour(xx1,yy1,Y,cmap=plt.cm.Paired, alpha=0.8)\n",
    "\n",
    "\n",
    "for lee in km5.classes:\n",
    "    plt.scatter(km[km.classes==lee][data[0]],km[km.classes==lee][data[1]],c=color[i])\n",
    "    i+=1\n",
    "\n",
    "plt.xlim(xx1.min(),xx1.max())\n",
    "plt.ylim(yy1.min(),yy1.max())\n",
    "plt.show()\n"
   ]
  },
  {
   "cell_type": "markdown",
   "metadata": {},
   "source": [
    "Nous n'avons malheureusement pas réussi à dessiner les frontières de décisions  "
   ]
  }
 ],
 "metadata": {
  "kernelspec": {
   "display_name": "Python 3",
   "language": "python",
   "name": "python3"
  },
  "language_info": {
   "codemirror_mode": {
    "name": "ipython",
    "version": 3
   },
   "file_extension": ".py",
   "mimetype": "text/x-python",
   "name": "python",
   "nbconvert_exporter": "python",
   "pygments_lexer": "ipython3",
   "version": "3.7.6"
  }
 },
 "nbformat": 4,
 "nbformat_minor": 2
}
